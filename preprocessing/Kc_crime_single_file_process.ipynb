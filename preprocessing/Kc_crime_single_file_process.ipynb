{
  "nbformat": 4,
  "nbformat_minor": 0,
  "metadata": {
    "colab": {
      "name": "Kc_crime_single_file_process.ipynb",
      "version": "0.3.2",
      "views": {},
      "default_view": {},
      "provenance": [],
      "collapsed_sections": []
    },
    "kernelspec": {
      "name": "python3",
      "display_name": "Python 3"
    }
  },
  "cells": [
    {
      "metadata": {
        "id": "pN43bV5PdzyM",
        "colab_type": "text"
      },
      "cell_type": "markdown",
      "source": [
        "# Creates single file csv from multiple csv files by year for KCPD Crime Data"
      ]
    },
    {
      "metadata": {
        "id": "vb0T7COtfGAj",
        "colab_type": "text"
      },
      "cell_type": "markdown",
      "source": [
        "###created: 6-10-2018 by: j.v.###\n",
        "###updated: 6-13-2018 by: j.v. removed duplicated 2011 data when stacking csv's###\n",
        "\n",
        "    "
      ]
    },
    {
      "metadata": {
        "id": "Ql-whwcR8RPI",
        "colab_type": "code",
        "colab": {
          "autoexec": {
            "startup": false,
            "wait_interval": 0
          }
        }
      },
      "cell_type": "code",
      "source": [
        "import pandas as pd"
      ],
      "execution_count": 0,
      "outputs": []
    },
    {
      "metadata": {
        "id": "FmXKVAX-EWtQ",
        "colab_type": "code",
        "colab": {
          "autoexec": {
            "startup": false,
            "wait_interval": 0
          }
        }
      },
      "cell_type": "code",
      "source": [
        "# Google drive connection using pydrive\n",
        "!pip install -U -q PyDrive\n",
        " \n",
        "from pydrive.auth import GoogleAuth\n",
        "from pydrive.drive import GoogleDrive\n",
        "from google.colab import auth\n",
        "from oauth2client.client import GoogleCredentials\n",
        "\n",
        "# 1. Authenticate and create the PyDrive client.\n",
        "auth.authenticate_user()\n",
        "gauth = GoogleAuth()\n",
        "gauth.credentials = GoogleCredentials.get_application_default()\n",
        "drive = GoogleDrive(gauth)"
      ],
      "execution_count": 0,
      "outputs": []
    },
    {
      "metadata": {
        "id": "5EsGXkgAHcUg",
        "colab_type": "code",
        "colab": {
          "autoexec": {
            "startup": false,
            "wait_interval": 0
          }
        }
      },
      "cell_type": "code",
      "source": [
        "def gdrive_download_files(folder_id):\n",
        "  \"\"\"\n",
        "  Purpose: Downloads all files from a folder on google drive which is specified by folder_id parameter.\n",
        "  \n",
        "  Parameters:\n",
        "    folder_id: folder id for gdrive folder you wish to download files from     \n",
        "   \n",
        "  \"\"\" \n",
        "  \n",
        "  dict = {}\n",
        "  \n",
        "  file_list = drive.ListFile({'q': \"'{}' in parents and trashed=false\".format(folder_id)}).GetList()\n",
        "  for file in file_list:\n",
        "    print('title: %s' % (file['title']))   \n",
        "    tmp_file_connection = drive.CreateFile({'id': '{}'.format(file['id'])})\n",
        "    tmp_file_connection.GetContentFile(file['title'])\n",
        "    dict[file['title']] = pd.read_csv(file['title'])\n",
        "    \n",
        "  return dict    \n",
        "    \n",
        "    \n",
        "\n",
        "  "
      ],
      "execution_count": 0,
      "outputs": []
    },
    {
      "metadata": {
        "id": "eBwN2K2E94HV",
        "colab_type": "code",
        "colab": {
          "autoexec": {
            "startup": false,
            "wait_interval": 0
          },
          "base_uri": "https://localhost:8080/",
          "height": 170
        },
        "outputId": "abf8b7d1-943b-4e5a-c329-195121592f39",
        "executionInfo": {
          "status": "ok",
          "timestamp": 1528927349380,
          "user_tz": 300,
          "elapsed": 19617,
          "user": {
            "displayName": "jvaughn575",
            "photoUrl": "//lh5.googleusercontent.com/-UUPhd8rCw34/AAAAAAAAAAI/AAAAAAAAAAA/cYDOyaWI730/s50-c-k-no/photo.jpg",
            "userId": "113634080879219838828"
          }
        }
      },
      "cell_type": "code",
      "source": [
        "folder_id = '<FOLDER ID HERE>' #Hou's shared drive folder currently\n",
        "\n",
        "# Calling above function to load all csv files into a dict\n",
        "files_dict = gdrive_download_files(folder_id)\n",
        "\n"
      ],
      "execution_count": 5,
      "outputs": [
        {
          "output_type": "stream",
          "text": [
            "title: KCPD_Crime_Data_2017.csv\n",
            "title: KCPD_Crime_Data_2009_Final.csv\n",
            "title: KCPD_Crime_Data_2012_Final.csv\n",
            "title: KCPD_Crime_Data_2011_Final.csv\n",
            "title: KCPD_Crime_Data_2010_Final.csv\n",
            "title: KCPD_Crime_Data_2013_Final.csv\n",
            "title: KCPD_Crime_Data_2016.csv\n",
            "title: KCPD_Crime_Data_2015.csv\n",
            "title: KCPD_Crime_Data_2014.csv\n"
          ],
          "name": "stdout"
        }
      ]
    },
    {
      "metadata": {
        "id": "aTqAufC_W3xK",
        "colab_type": "code",
        "colab": {
          "autoexec": {
            "startup": false,
            "wait_interval": 0
          }
        }
      },
      "cell_type": "code",
      "source": [
        "import math, re\n",
        "\n",
        "def get_lat_long_from_address(address):\n",
        "  \"\"\"\n",
        "    Purpose: Splits address string on '\\n' and retrives latitude and longitude and cast them to floats\n",
        "    Parameters: address is a string which includes the address and lat,long coordinates delimited by '\\n'\n",
        "  \"\"\"\n",
        "  # Split out longitude and latitude from address string result_example => '(39.06740375200047, -94.53796609099965)'  \n",
        "  \n",
        "  try:     \n",
        "    address_tuple = address.split('\\n')    \n",
        "    \n",
        "    coordinate_pair_str = address_tuple[-1]    \n",
        "    lat,long = map(float, re.sub(\"\\(|\\)\", \"\" ,coordinate_pair_str).split(','))\n",
        "    \n",
        "    return (lat,long)\n",
        "  except:   \n",
        "    return (0.0,0.0)"
      ],
      "execution_count": 0,
      "outputs": []
    },
    {
      "metadata": {
        "id": "bF__LYGCZWbS",
        "colab_type": "code",
        "colab": {
          "autoexec": {
            "startup": false,
            "wait_interval": 0
          },
          "base_uri": "https://localhost:8080/",
          "height": 170
        },
        "outputId": "4d040d37-75fa-4d32-b7fa-67c7a473f6c9",
        "executionInfo": {
          "status": "ok",
          "timestamp": 1528927450603,
          "user_tz": 300,
          "elapsed": 78362,
          "user": {
            "displayName": "jvaughn575",
            "photoUrl": "//lh5.googleusercontent.com/-UUPhd8rCw34/AAAAAAAAAAI/AAAAAAAAAAA/cYDOyaWI730/s50-c-k-no/photo.jpg",
            "userId": "113634080879219838828"
          }
        }
      },
      "cell_type": "code",
      "source": [
        "\n",
        "# Data Preprocessing before concatinating datasets\n",
        "\n",
        "\"\"\"\n",
        "-- Some columns names had spaces vs '_' on others, so I grabbed the column names\n",
        "   from the 2017 dataset and used that as a standard to process the other columns.\n",
        "   \n",
        "-- Years 2015 and 2016 had Latitude and Longitude columns, which I thought was usefull,\n",
        "   so I derived these columns from the 'Location' column and added it to each year's\n",
        "   dataframe.\n",
        "-- Some years had named a column 'Location' and others named it 'Location 1', the prior\n",
        "   was selected as the standard.\n",
        "-- 'Firearm Used Flag' in some years had extra whitespace at the end of the string, this\n",
        "    was removed.\n",
        "-- Columns for all dataframes were aligned according to the 2017 data column order.\n",
        "\n",
        "-- The data for the year 2013 didn't not have a Address or City column like all the other\n",
        "   dataframes, so these were derived from the 'Location' columns.\n",
        "\"\"\"\n",
        "\n",
        "\n",
        "\n",
        "for key, df in files_dict.items():      \n",
        "  lat_arr, long_arr = [], []\n",
        "  \n",
        "  print(\"Processing: \",key)\n",
        "  \n",
        "  # Remove extra whitespace from ends of column name ex => 'Firearm Used Flag  '\n",
        "  df.rename(columns=lambda x: x.strip(), inplace=True)\n",
        "  \n",
        "  columns = ['Report_No', 'Reported_Date', 'Reported_Time', 'From_Date', 'From_Time',\n",
        "       'To_Date', 'To_Time', 'Offense', 'IBRS', 'Description', 'Beat',\n",
        "       'Address', 'City', 'Zip Code', 'Rep_Dist', 'Area', 'DVFlag', 'Invl_No',\n",
        "       'Involvement', 'Race', 'Sex', 'Age', 'Firearm Used Flag', 'Latitude',\n",
        "       'Longitude', 'Location']\n",
        "\n",
        "  if 'Location 1' in df.keys():\n",
        "    df.rename(columns={'Location 1':'Location'}, inplace=True)\n",
        "      \n",
        "  if 'Reported Time' in df.keys():\n",
        "    df.rename(columns={'Reported Time':'Reported_Time'}, inplace=True)\n",
        "    \n",
        "  if 'From Time' in df.keys():\n",
        "    df.rename(columns={'From Time':'From_Time'}, inplace=True) \n",
        "    \n",
        "  if 'To Time' in df.keys():\n",
        "    df.rename(columns={'To Time':'To_Time'}, inplace=True)   \n",
        "    \n",
        "    \n",
        "  # Odd case 2013 data is the only one that doesn't have address or city columns\n",
        "  # These can be created from the Location column\n",
        "  \n",
        "  if key == 'KCPD_Crime_Data_2013_Final.csv':\n",
        "    df['Address'] = df['Location'].apply(lambda x: x.split('\\n')[0:1])\n",
        "    df['City'] = df['Location'].apply(lambda x: x.split('\\n')[1:2][0].split(',')[0].strip())   \n",
        "  \n",
        "  \n",
        "  for _, row in files_dict[key].iterrows():\n",
        "    lat, long = get_lat_long_from_address(row['Location'])\n",
        "    lat_arr.append(lat)\n",
        "    long_arr.append(long)\n",
        "\n",
        "  files_dict[key]['Latitude'] = lat_arr\n",
        "  files_dict[key]['Longitude'] = long_arr\n",
        "  \n",
        "  # Aligns the columns\n",
        "  files_dict[key] = files_dict[key][columns]\n",
        "\n",
        "    \n",
        "    \n"
      ],
      "execution_count": 7,
      "outputs": [
        {
          "output_type": "stream",
          "text": [
            "Processing:  KCPD_Crime_Data_2017.csv\n",
            "Processing:  KCPD_Crime_Data_2009_Final.csv\n",
            "Processing:  KCPD_Crime_Data_2012_Final.csv\n",
            "Processing:  KCPD_Crime_Data_2011_Final.csv\n",
            "Processing:  KCPD_Crime_Data_2010_Final.csv\n",
            "Processing:  KCPD_Crime_Data_2013_Final.csv\n",
            "Processing:  KCPD_Crime_Data_2016.csv\n",
            "Processing:  KCPD_Crime_Data_2015.csv\n",
            "Processing:  KCPD_Crime_Data_2014.csv\n"
          ],
          "name": "stdout"
        }
      ]
    },
    {
      "metadata": {
        "id": "3mNuwtD9ymaE",
        "colab_type": "code",
        "colab": {
          "autoexec": {
            "startup": false,
            "wait_interval": 0
          }
        }
      },
      "cell_type": "code",
      "source": [
        "# Concatinate all processed year's dataframes into one file by vertical stacking\n",
        "# the already aligned columns.\n",
        "\n",
        "result = pd.concat(\n",
        "    [\n",
        "        files_dict['KCPD_Crime_Data_2009_Final.csv'], \n",
        "        files_dict['KCPD_Crime_Data_2010_Final.csv'],\n",
        "        files_dict['KCPD_Crime_Data_2011_Final.csv'],        \n",
        "        files_dict['KCPD_Crime_Data_2012_Final.csv'],\n",
        "        files_dict['KCPD_Crime_Data_2013_Final.csv'],\n",
        "        files_dict['KCPD_Crime_Data_2014.csv'],\n",
        "        files_dict['KCPD_Crime_Data_2015.csv'],\n",
        "        files_dict['KCPD_Crime_Data_2016.csv'],\n",
        "        files_dict['KCPD_Crime_Data_2017.csv'],\n",
        "        \n",
        "    ])"
      ],
      "execution_count": 0,
      "outputs": []
    },
    {
      "metadata": {
        "id": "pXSzpGnEwcVw",
        "colab_type": "code",
        "colab": {
          "autoexec": {
            "startup": false,
            "wait_interval": 0
          },
          "base_uri": "https://localhost:8080/",
          "height": 544
        },
        "outputId": "ca3cd27a-4dab-421d-c612-47600dea7235",
        "executionInfo": {
          "status": "ok",
          "timestamp": 1528927480478,
          "user_tz": 300,
          "elapsed": 2199,
          "user": {
            "displayName": "jvaughn575",
            "photoUrl": "//lh5.googleusercontent.com/-UUPhd8rCw34/AAAAAAAAAAI/AAAAAAAAAAA/cYDOyaWI730/s50-c-k-no/photo.jpg",
            "userId": "113634080879219838828"
          }
        }
      },
      "cell_type": "code",
      "source": [
        "result.info()"
      ],
      "execution_count": 9,
      "outputs": [
        {
          "output_type": "stream",
          "text": [
            "<class 'pandas.core.frame.DataFrame'>\n",
            "Int64Index: 1160598 entries, 0 to 132138\n",
            "Data columns (total 26 columns):\n",
            "Report_No            1160598 non-null int64\n",
            "Reported_Date        1160598 non-null object\n",
            "Reported_Time        1160598 non-null object\n",
            "From_Date            1158879 non-null object\n",
            "From_Time            1158015 non-null object\n",
            "To_Date              451534 non-null object\n",
            "To_Time              475236 non-null object\n",
            "Offense              1160598 non-null int64\n",
            "IBRS                 1150867 non-null object\n",
            "Description          1160598 non-null object\n",
            "Beat                 1158023 non-null object\n",
            "Address              1160456 non-null object\n",
            "City                 1160442 non-null object\n",
            "Zip Code             1137705 non-null float64\n",
            "Rep_Dist             1156640 non-null object\n",
            "Area                 1156613 non-null object\n",
            "DVFlag               1160598 non-null object\n",
            "Invl_No              1160598 non-null int64\n",
            "Involvement          1160598 non-null object\n",
            "Race                 1006582 non-null object\n",
            "Sex                  1006582 non-null object\n",
            "Age                  650014 non-null float64\n",
            "Firearm Used Flag    1160598 non-null object\n",
            "Latitude             1160598 non-null float64\n",
            "Longitude            1160598 non-null float64\n",
            "Location             1159961 non-null object\n",
            "dtypes: float64(4), int64(3), object(19)\n",
            "memory usage: 239.1+ MB\n"
          ],
          "name": "stdout"
        }
      ]
    },
    {
      "metadata": {
        "id": "RKuqsSxu_rNv",
        "colab_type": "code",
        "colab": {
          "autoexec": {
            "startup": false,
            "wait_interval": 0
          }
        }
      },
      "cell_type": "code",
      "source": [
        "# Convert concatenated dataframe to csv file\n",
        "result.to_csv('kcpd_crime_2009-2017_concat.csv',index=False)"
      ],
      "execution_count": 0,
      "outputs": []
    },
    {
      "metadata": {
        "id": "IFPJyJeB93-2",
        "colab_type": "code",
        "colab": {
          "autoexec": {
            "startup": false,
            "wait_interval": 0
          },
          "base_uri": "https://localhost:8080/",
          "height": 34
        },
        "outputId": "3174ebed-b21d-4f5f-fb9d-417f195c63db",
        "executionInfo": {
          "status": "ok",
          "timestamp": 1528927584839,
          "user_tz": 300,
          "elapsed": 6547,
          "user": {
            "displayName": "jvaughn575",
            "photoUrl": "//lh5.googleusercontent.com/-UUPhd8rCw34/AAAAAAAAAAI/AAAAAAAAAAA/cYDOyaWI730/s50-c-k-no/photo.jpg",
            "userId": "113634080879219838828"
          }
        }
      },
      "cell_type": "code",
      "source": [
        "# Upload final dataframe to your personal drive folder\n",
        "uploaded = drive.CreateFile({'title': 'kcpd_crime_2009-2017_concat.csv'})\n",
        "uploaded.SetContentFile('kcpd_crime_2009-2017_concat.csv')\n",
        "uploaded.Upload()\n",
        "print('Uploaded file with ID {}'.format(uploaded.get('id')))"
      ],
      "execution_count": 11,
      "outputs": [
        {
          "output_type": "stream",
          "text": [
            "Uploaded file with ID 1L-ey-hY0c5bRptP0Fxv-emD29JoA7hKu\n"
          ],
          "name": "stdout"
        }
      ]
    },
    {
      "metadata": {
        "id": "sv2CLU9FL2hd",
        "colab_type": "code",
        "colab": {
          "autoexec": {
            "startup": false,
            "wait_interval": 0
          }
        }
      },
      "cell_type": "code",
      "source": [
        ""
      ],
      "execution_count": 0,
      "outputs": []
    },
    {
      "metadata": {
        "id": "ixeYsA7TeWY0",
        "colab_type": "text"
      },
      "cell_type": "markdown",
      "source": [
        ""
      ]
    }
  ]
}